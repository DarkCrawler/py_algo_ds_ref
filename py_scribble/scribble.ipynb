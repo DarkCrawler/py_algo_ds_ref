{
 "cells": [
  {
   "cell_type": "code",
   "execution_count": 21,
   "id": "91b6fe04-cf61-4aa1-9b80-207777328d99",
   "metadata": {},
   "outputs": [],
   "source": [
    "def using_send_method():\n",
    "    i = 0\n",
    "    num = 0\n",
    "    while num < 10:\n",
    "        i = (yield num)\n",
    "        print (f'loop..{i}')\n",
    "        if i is not None:\n",
    "            num = i\n",
    "        num = num+1"
   ]
  },
  {
   "cell_type": "code",
   "execution_count": 22,
   "id": "e695350d-9bec-4574-bcbb-6652f2d36b87",
   "metadata": {},
   "outputs": [],
   "source": [
    "send_test = using_send_method()"
   ]
  },
  {
   "cell_type": "code",
   "execution_count": 23,
   "id": "befe714b-38f0-4c78-a833-0713c702a1f9",
   "metadata": {},
   "outputs": [
    {
     "name": "stdout",
     "output_type": "stream",
     "text": [
      "main ...0\n",
      "loop..None\n",
      "main ...1\n",
      "loop..None\n",
      "main ...2\n",
      "loop..None\n",
      "main ...3\n",
      "loop..None\n",
      "main ...4\n",
      "loop..None\n",
      "main ...5\n",
      "loop..None\n",
      "main ...6\n",
      "loop..None\n",
      "main ...7\n",
      "loop..None\n",
      "main ...8\n",
      "loop..None\n",
      "main ...9\n",
      "loop..14\n"
     ]
    },
    {
     "ename": "StopIteration",
     "evalue": "",
     "output_type": "error",
     "traceback": [
      "\u001b[0;31m---------------------------------------------------------------------------\u001b[0m",
      "\u001b[0;31mStopIteration\u001b[0m                             Traceback (most recent call last)",
      "\u001b[0;32m/var/folders/cx/lbwc4ymn09sg9v3txpff23l40000gn/T/ipykernel_29661/2590993171.py\u001b[0m in \u001b[0;36m<cell line: 1>\u001b[0;34m()\u001b[0m\n\u001b[1;32m      2\u001b[0m     \u001b[0mprint\u001b[0m\u001b[0;34m(\u001b[0m\u001b[0;34mf'main ...{v}'\u001b[0m\u001b[0;34m)\u001b[0m\u001b[0;34m\u001b[0m\u001b[0;34m\u001b[0m\u001b[0m\n\u001b[1;32m      3\u001b[0m     \u001b[0;32mif\u001b[0m \u001b[0mv\u001b[0m \u001b[0;34m==\u001b[0m \u001b[0;36m9\u001b[0m\u001b[0;34m:\u001b[0m\u001b[0;34m\u001b[0m\u001b[0;34m\u001b[0m\u001b[0m\n\u001b[0;32m----> 4\u001b[0;31m          \u001b[0msend_test\u001b[0m\u001b[0;34m.\u001b[0m\u001b[0msend\u001b[0m\u001b[0;34m(\u001b[0m\u001b[0;36m14\u001b[0m\u001b[0;34m)\u001b[0m\u001b[0;34m\u001b[0m\u001b[0;34m\u001b[0m\u001b[0m\n\u001b[0m\u001b[1;32m      5\u001b[0m \u001b[0;34m\u001b[0m\u001b[0m\n",
      "\u001b[0;31mStopIteration\u001b[0m: "
     ]
    }
   ],
   "source": [
    "for v in send_test:\n",
    "    print(f'main ...{v}')\n",
    "    if v == 9:\n",
    "         send_test.send(14)\n",
    "        "
   ]
  },
  {
   "cell_type": "code",
   "execution_count": null,
   "id": "4c05259d-cea1-4341-b8d6-6025524174ff",
   "metadata": {},
   "outputs": [],
   "source": []
  },
  {
   "cell_type": "markdown",
   "id": "87a6d6ca-7d23-48ec-a1ae-05653c2718be",
   "metadata": {},
   "source": [
    "# remembering state "
   ]
  },
  {
   "cell_type": "code",
   "execution_count": null,
   "id": "19d0a306-4816-4479-b28f-6833b55b94e2",
   "metadata": {},
   "outputs": [],
   "source": []
  },
  {
   "cell_type": "code",
   "execution_count": null,
   "id": "e76791d4-ecf4-4be7-8bf2-5a2126d9bd20",
   "metadata": {},
   "outputs": [],
   "source": []
  },
  {
   "cell_type": "code",
   "execution_count": null,
   "id": "06718ab2-a098-40dd-aa7c-986d1519a236",
   "metadata": {},
   "outputs": [],
   "source": []
  },
  {
   "cell_type": "code",
   "execution_count": null,
   "id": "0c4dbfcf-ec00-4a45-beba-19f6f9a10d11",
   "metadata": {},
   "outputs": [],
   "source": [
    "dict_obj = dict(name='T', age=32)"
   ]
  },
  {
   "cell_type": "code",
   "execution_count": null,
   "id": "f983740c-748d-453e-a422-a05be68ab9d0",
   "metadata": {},
   "outputs": [],
   "source": [
    "dict_obj.get('name')"
   ]
  }
 ],
 "metadata": {
  "kernelspec": {
   "display_name": "Python 3 (ipykernel)",
   "language": "python",
   "name": "python3"
  },
  "language_info": {
   "codemirror_mode": {
    "name": "ipython",
    "version": 3
   },
   "file_extension": ".py",
   "mimetype": "text/x-python",
   "name": "python",
   "nbconvert_exporter": "python",
   "pygments_lexer": "ipython3",
   "version": "3.8.13"
  }
 },
 "nbformat": 4,
 "nbformat_minor": 5
}
