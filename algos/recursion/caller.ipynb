{
 "cells": [
  {
   "cell_type": "markdown",
   "id": "1e85f7d7-64a3-4f73-984e-3355cb984de6",
   "metadata": {},
   "source": [
    "## DEMO : English Ruler Using Recursion in Python"
   ]
  },
  {
   "cell_type": "code",
   "execution_count": null,
   "id": "d98df18c-1d41-4cfc-aea5-3c13341cf5b7",
   "metadata": {},
   "outputs": [],
   "source": [
    "import os\n",
    "os._exit(00)\n"
   ]
  },
  {
   "cell_type": "code",
   "execution_count": null,
   "id": "78857ccb-8f94-449b-b61f-e05ea24ab8fe",
   "metadata": {},
   "outputs": [],
   "source": [
    "import EnglishRuler as er\n",
    "er.print_english_ruler(major_tick_length=3, inches_of_ruler=3)"
   ]
  },
  {
   "cell_type": "code",
   "execution_count": null,
   "id": "f2d91f7c-b418-4c74-984b-9ed340b607f9",
   "metadata": {},
   "outputs": [],
   "source": [
    "import BinarySearch as bs \n",
    "bs.binary_search(55)"
   ]
  },
  {
   "cell_type": "code",
   "execution_count": 1,
   "id": "812e8244-bfeb-4323-b2da-d94bffa37e2f",
   "metadata": {},
   "outputs": [
    {
     "data": {
      "text/plain": [
       "'/Users/sg0220142/codebase/office/retail-iq'"
      ]
     },
     "execution_count": 1,
     "metadata": {},
     "output_type": "execute_result"
    }
   ],
   "source": [
    "'/Users/sg0220142/codebase/office/retail-iq'"
   ]
  },
  {
   "cell_type": "code",
   "execution_count": null,
   "id": "97280d3b-9b4d-41c0-a603-c46e240c2080",
   "metadata": {},
   "outputs": [],
   "source": [
    "import "
   ]
  }
 ],
 "metadata": {
  "kernelspec": {
   "display_name": "Python 3 (ipykernel)",
   "language": "python",
   "name": "python3"
  },
  "language_info": {
   "codemirror_mode": {
    "name": "ipython",
    "version": 3
   },
   "file_extension": ".py",
   "mimetype": "text/x-python",
   "name": "python",
   "nbconvert_exporter": "python",
   "pygments_lexer": "ipython3",
   "version": "3.8.13"
  }
 },
 "nbformat": 4,
 "nbformat_minor": 5
}
